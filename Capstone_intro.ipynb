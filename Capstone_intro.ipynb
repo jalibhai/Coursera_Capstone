{
 "cells": [
  {
   "cell_type": "markdown",
   "metadata": {},
   "source": [
    "## Similarity k-Means Clustering of Edinburgh and Glasgow Postcodes Based on Local Amenities\n",
    "\n",
    "#### James Alibhai, PhD\n",
    "\n",
    "Moving home can be a daunting prospect, especially when you are unfamiliar with the new area you are moving to. Often a person has a desire to move either to a location that has similar local amenities or would like to move to an area that matches a desired area that they are familiar with. In many cases estate agents can offer help and advice to help a client understand an area that is unfamiliar, however this can be fraught with bias by the estate agent and inability to convey an ideal area by the client. Furthermore, with the growing market of property searching moving online, it can be highly advantageous for an estate agent to offer their client an unbiased model allowing a search of known locations to match areas in the search perimeter based on desired local amenities, such as nearby parks, shops, restaurants etc.\n",
    "\n",
    "Here, we present a machine learning k-means cluster model to match locations in the two largest and most populous cities in Scotland; Edinburgh and Glasgow. The cities share a similar distribution of population, with young people (ages 16-29) making up around one fifth of the total population. Both cities are also famous for their culture. Glasgow was named the city of culture in 1990 and remains one of the most vibrant culture hubs in the world, boasting the National Theatre of Scotland, BBC Scottish Symphony Orchestra, National Theatre of Scotland, Gallery of Modern Art and the Scottish Hydro. Edinburgh on the other hand includes the National Museum of Scotland, Scottish National Gallery of Modern Art, Edinburgh Festival Theatre as well as a number of world famous festivals, including Edinburgh Fringe, International Film Festival, the Royal Edinburgh Military Tattoo, amongst many others. Combined these contribute to thriving socioeconomic cities that are enriched with a variety of local amenities in different parts of each city. "
   ]
  }
 ],
 "metadata": {
  "kernelspec": {
   "display_name": "Python 3",
   "language": "python",
   "name": "python3"
  },
  "language_info": {
   "codemirror_mode": {
    "name": "ipython",
    "version": 3
   },
   "file_extension": ".py",
   "mimetype": "text/x-python",
   "name": "python",
   "nbconvert_exporter": "python",
   "pygments_lexer": "ipython3",
   "version": "3.8.3"
  }
 },
 "nbformat": 4,
 "nbformat_minor": 4
}
